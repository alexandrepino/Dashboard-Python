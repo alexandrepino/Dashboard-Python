{
 "cells": [
  {
   "cell_type": "code",
   "execution_count": 1,
   "id": "60d1c0c5",
   "metadata": {},
   "outputs": [],
   "source": [
    "from dash import Dash, html, dcc, Input, Output\n",
    "import plotly.express as px\n",
    "import pandas as pd"
   ]
  },
  {
   "cell_type": "code",
   "execution_count": null,
   "id": "1ede5973",
   "metadata": {},
   "outputs": [
    {
     "name": "stdout",
     "output_type": "stream",
     "text": [
      "Dash is running on http://127.0.0.1:8050/\n",
      "\n",
      " * Serving Flask app '__main__' (lazy loading)\n",
      " * Environment: production\n",
      "\u001b[31m   WARNING: This is a development server. Do not use it in a production deployment.\u001b[0m\n",
      "\u001b[2m   Use a production WSGI server instead.\u001b[0m\n",
      " * Debug mode: off\n"
     ]
    },
    {
     "name": "stderr",
     "output_type": "stream",
     "text": [
      " * Running on http://127.0.0.1:8050/ (Press CTRL+C to quit)\n",
      "127.0.0.1 - - [08/Apr/2022 09:33:02] \"GET / HTTP/1.1\" 200 -\n",
      "127.0.0.1 - - [08/Apr/2022 09:33:02] \"GET /_dash-component-suites/dash/deps/prop-types@15.v2_3_0m1647348182.7.2.min.js HTTP/1.1\" 200 -\n",
      "127.0.0.1 - - [08/Apr/2022 09:33:02] \"GET /_dash-component-suites/dash/dash_table/bundle.v5_1_1m1647348182.js HTTP/1.1\" 200 -\n",
      "127.0.0.1 - - [08/Apr/2022 09:33:02] \"GET /_dash-component-suites/dash/dcc/dash_core_components-shared.v2_3_0m1647348182.js HTTP/1.1\" 200 -\n",
      "127.0.0.1 - - [08/Apr/2022 09:33:03] \"GET /_dash-dependencies HTTP/1.1\" 200 -\n",
      "127.0.0.1 - - [08/Apr/2022 09:33:03] \"GET /_dash-layout HTTP/1.1\" 200 -\n",
      "127.0.0.1 - - [08/Apr/2022 09:33:03] \"GET /_favicon.ico?v=2.3.0 HTTP/1.1\" 200 -\n",
      "127.0.0.1 - - [08/Apr/2022 09:33:03] \"POST /_dash-update-component HTTP/1.1\" 200 -\n",
      "127.0.0.1 - - [08/Apr/2022 09:33:03] \"\u001b[36mGET /_dash-component-suites/dash/dcc/async-dropdown.js HTTP/1.1\u001b[0m\" 304 -\n",
      "127.0.0.1 - - [08/Apr/2022 09:33:03] \"\u001b[36mGET /_dash-component-suites/dash/dcc/async-graph.js HTTP/1.1\u001b[0m\" 304 -\n",
      "127.0.0.1 - - [08/Apr/2022 09:33:03] \"\u001b[36mGET /_dash-component-suites/dash/dcc/async-plotlyjs.js HTTP/1.1\u001b[0m\" 304 -\n"
     ]
    }
   ],
   "source": [
    "app = Dash(__name__)\n",
    "\n",
    "# assume you have a \"long-form\" data frame\n",
    "# see https://plotly.com/python/px-arguments/ for more options\n",
    "df = pd.read_excel(\"Vendas.xlsx\")\n",
    "\n",
    "# criando o gráfico\n",
    "fig = px.bar(df, x=\"Produto\", y=\"Quantidade\", color=\"ID Loja\", barmode=\"group\")\n",
    "opcoes = list(df['ID Loja'].unique())\n",
    "opcoes.append(\"Todas as Lojas\")\n",
    "\n",
    "\n",
    "app.layout = html.Div(children=[\n",
    "    html.H1(children='Faturamento das Lojas'),\n",
    "    html.H2(children='Gráfico com o Faturamento de Todos os Produtos separados por Loja'),\n",
    "    html.Div(children='''\n",
    "        Obs: Esse gráfico mostra a quantidade de produtos vendidos, não o faturamento.\n",
    "    '''),\n",
    "\n",
    "    dcc.Dropdown(opcoes, value='Todas as Lojas', id='lista_lojas'),\n",
    "\n",
    "    dcc.Graph(\n",
    "        id='grafico_quantidade_vendas',\n",
    "        figure=fig\n",
    "    )\n",
    "])\n",
    "\n",
    "@app.callback(\n",
    "    Output('grafico_quantidade_vendas', 'figure'),\n",
    "    Input('lista_lojas', 'value')\n",
    ")\n",
    "def update_output(value):\n",
    "    if value == \"Todas as Lojas\":\n",
    "        fig = px.bar(df, x=\"Produto\", y=\"Quantidade\", color=\"ID Loja\", barmode=\"group\")\n",
    "    else:\n",
    "        tabela_filtrada = df.loc[df['ID Loja']==value, :]\n",
    "        fig = px.bar(tabela_filtrada, x=\"Produto\", y=\"Quantidade\", color=\"ID Loja\", barmode=\"group\")\n",
    "    return fig\n",
    "\n",
    "\n",
    "if __name__ == '__main__':\n",
    "    app.run_server(debug=False)"
   ]
  },
  {
   "cell_type": "markdown",
   "id": "3d5c0f42",
   "metadata": {},
   "source": [
    "###  Caso dê a mensagem de erro '[Errno 98] 'Address already in use', vá até o seu terminal e digite \" sudo lsof -i :'sua porta' \" e depois digite \"sudo kill -9 'sua porta' \""
   ]
  }
 ],
 "metadata": {
  "kernelspec": {
   "display_name": "Python 3 (ipykernel)",
   "language": "python",
   "name": "python3"
  },
  "language_info": {
   "codemirror_mode": {
    "name": "ipython",
    "version": 3
   },
   "file_extension": ".py",
   "mimetype": "text/x-python",
   "name": "python",
   "nbconvert_exporter": "python",
   "pygments_lexer": "ipython3",
   "version": "3.9.10"
  }
 },
 "nbformat": 4,
 "nbformat_minor": 5
}
