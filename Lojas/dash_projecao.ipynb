{
 "cells": [
  {
   "cell_type": "code",
   "execution_count": 1,
   "id": "44fa44f0",
   "metadata": {},
   "outputs": [
    {
     "name": "stderr",
     "output_type": "stream",
     "text": [
      "C:\\Users\\alexa\\AppData\\Local\\Temp\\ipykernel_6240\\927923875.py:7: UserWarning: \n",
      "The dash_core_components package is deprecated. Please replace\n",
      "`import dash_core_components as dcc` with `from dash import dcc`\n",
      "  import dash_core_components as dcc\n",
      "C:\\Users\\alexa\\AppData\\Local\\Temp\\ipykernel_6240\\927923875.py:8: UserWarning: \n",
      "The dash_html_components package is deprecated. Please replace\n",
      "`import dash_html_components as html` with `from dash import html`\n",
      "  import dash_html_components as html\n"
     ]
    }
   ],
   "source": [
    "import pandas as pd\n",
    "import psycopg2 as pg\n",
    "import sqlalchemy\n",
    "from sqlalchemy import create_engine\n",
    "import pandas as pd\n",
    "import dash\n",
    "import dash_core_components as dcc\n",
    "import dash_html_components as html\n",
    "from dash.dependencies import Input, Output\n",
    "import plotly.express as px\n",
    "from dash import Dash, html, dcc, Input, Output\n",
    "import plotly.express as px"
   ]
  },
  {
   "cell_type": "code",
   "execution_count": 2,
   "id": "b1370f36",
   "metadata": {},
   "outputs": [],
   "source": [
    "vendas_df = pd.read_csv('Vendas.csv', sep = ';')\n",
    "produtos_df = pd.read_csv('Produtos.csv', sep = ';')\n",
    "lojas_df = pd.read_csv('Lojas.csv', sep =';')\n",
    "clientes_df = pd.read_csv('Clientes.csv', sep = ';')\n",
    "vendas_df = vendas_df.drop(columns=['ID Canal', 'ID Promocao', 'Data do Envio','Quantidade Devolvida'])"
   ]
  },
  {
   "cell_type": "code",
   "execution_count": 3,
   "id": "4aabe464",
   "metadata": {},
   "outputs": [
    {
     "name": "stderr",
     "output_type": "stream",
     "text": [
      "C:\\Users\\alexa\\AppData\\Local\\Temp\\ipykernel_6240\\3706922556.py:15: UserWarning: Parsing dates in DD/MM/YYYY format when dayfirst=False (the default) was specified. This may lead to inconsistently parsed dates! Specify a format to ensure consistent parsing.\n",
      "  vendas_df['Data da Venda'] = pd.to_datetime(vendas_df['Data da Venda'])\n"
     ]
    },
    {
     "data": {
      "text/html": [
       "\n",
       "        <iframe\n",
       "            width=\"100%\"\n",
       "            height=\"650\"\n",
       "            src=\"http://127.0.0.1:8050/\"\n",
       "            frameborder=\"0\"\n",
       "            allowfullscreen\n",
       "            \n",
       "        ></iframe>\n",
       "        "
      ],
      "text/plain": [
       "<IPython.lib.display.IFrame at 0x1ef010b8c70>"
      ]
     },
     "metadata": {},
     "output_type": "display_data"
    }
   ],
   "source": [
    "import dash\n",
    "import dash_core_components as dcc\n",
    "import dash_html_components as html\n",
    "from dash.dependencies import Input, Output\n",
    "import plotly.express as px\n",
    "import pandas as pd\n",
    "\n",
    "# Load your data\n",
    "vendas_df = pd.read_csv('Vendas.csv', sep=';')\n",
    "lojas_df = pd.read_csv('Lojas.csv', sep=';')\n",
    "clientes_df = pd.read_csv('Clientes.csv', sep=';')\n",
    "vendas_df = vendas_df.drop(columns=['ID Canal', 'ID Promocao', 'Data do Envio','Quantidade Devolvida'])\n",
    "\n",
    "# Convert 'Data da Venda' to datetime format and extract the month\n",
    "vendas_df['Data da Venda'] = pd.to_datetime(vendas_df['Data da Venda'])\n",
    "vendas_df['Month'] = vendas_df['Data da Venda'].dt.month\n",
    "\n",
    "# Group by month and calculate total sales\n",
    "monthly_sales = vendas_df.groupby('Month')['Quantidade Vendida'].sum().reset_index()\n",
    "\n",
    "# Group by store and calculate total revenue\n",
    "store_revenue = vendas_df.groupby('ID Loja')['Quantidade Vendida'].sum().reset_index()\n",
    "\n",
    "# Merge with store names and select top 10 stores\n",
    "store_revenue = store_revenue.merge(lojas_df, left_on='ID Loja', right_on='ID Loja')\n",
    "store_revenue = store_revenue.sort_values('Quantidade Vendida', ascending=False).head(10)\n",
    "\n",
    "# Group by gender and calculate total purchases\n",
    "gender_purchases = vendas_df.merge(clientes_df, left_on='ID Cliente', right_on='ID Cliente')\n",
    "gender_purchases = gender_purchases.groupby('Genero')['Quantidade Vendida'].sum().reset_index()\n",
    "\n",
    "# Mapping from month number to Portuguese name\n",
    "month_map = {\n",
    "    1: 'Janeiro', 2: 'Fevereiro', 3: 'Março', 4: 'Abril',\n",
    "    5: 'Maio', 6: 'Junho', 7: 'Julho', 8: 'Agosto',\n",
    "    9: 'Setembro', 10: 'Outubro', 11: 'Novembro', 12: 'Dezembro'\n",
    "}\n",
    "monthly_sales['Month'] = monthly_sales['Month'].map(month_map)\n",
    "\n",
    "# Create a Dash application\n",
    "app = dash.Dash(__name__)\n",
    "\n",
    "# Define the layout\n",
    "app.layout = html.Div([\n",
    "    dcc.Graph(id='graph1'),\n",
    "    dcc.Graph(id='graph2'),\n",
    "    dcc.Graph(id='graph3'),\n",
    "])\n",
    "\n",
    "# Define callback to update graphs\n",
    "@app.callback(\n",
    "    [Output('graph1', 'figure'),\n",
    "     Output('graph2', 'figure'),\n",
    "     Output('graph3', 'figure')],\n",
    "    [Input(\"graph1\", \"id\"),\n",
    "     Input(\"graph2\", \"id\"),\n",
    "     Input(\"graph3\", \"id\")]\n",
    ")\n",
    "def update_figure(id1, id2, id3):\n",
    "    fig1 = px.bar(monthly_sales, x='Month', y='Quantidade Vendida')\n",
    "    fig2 = px.bar(store_revenue, x='Nome da Loja', y='Quantidade Vendida')\n",
    "    fig3 = px.pie(gender_purchases, values='Quantidade Vendida', names='Genero')\n",
    "    return fig1, fig2, fig3\n",
    "\n",
    "# Run the app\n",
    "if __name__ == '__main__':\n",
    "    app.run_server(debug=True)\n"
   ]
  },
  {
   "cell_type": "code",
   "execution_count": null,
   "id": "cc61d590",
   "metadata": {},
   "outputs": [],
   "source": []
  }
 ],
 "metadata": {
  "kernelspec": {
   "display_name": "Python 3 (ipykernel)",
   "language": "python",
   "name": "python3"
  },
  "language_info": {
   "codemirror_mode": {
    "name": "ipython",
    "version": 3
   },
   "file_extension": ".py",
   "mimetype": "text/x-python",
   "name": "python",
   "nbconvert_exporter": "python",
   "pygments_lexer": "ipython3",
   "version": "3.10.9"
  }
 },
 "nbformat": 4,
 "nbformat_minor": 5
}
